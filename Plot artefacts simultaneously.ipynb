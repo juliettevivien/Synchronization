{
 "cells": [
  {
   "attachments": {},
   "cell_type": "markdown",
   "metadata": {},
   "source": [
    "Import all librairies"
   ]
  },
  {
   "cell_type": "code",
   "execution_count": null,
   "metadata": {},
   "outputs": [],
   "source": [
    "import os\n",
    "import sys\n",
    "import importlib\n",
    "import json\n",
    "from dataclasses import dataclass, field, fields\n",
    "from itertools import compress\n",
    "import csv\n",
    "import pandas as pd\n",
    "import numpy as np\n",
    "import scipy\n",
    "import matplotlib.pyplot as plt\n",
    "from scipy import signal\n",
    "from scipy.signal import butter, filtfilt, freqz\n",
    "import openpyxl\n",
    "from openpyxl import Workbook, load_workbook\n",
    "import xlrd\n",
    "#MNE\n",
    "import mne\n",
    "from mne.time_frequency import tfr_morlet\n",
    "from importlib import reload \n",
    "from os.path import join, dirname, realpath, exists\n",
    "\n",
    "#load poly5reader\n",
    "# define current working directory (the one that contains this notebook): this is the project_path\n",
    "os.chdir('c:\\\\Users\\\\Juliette\\\\Research\\\\Projects\\\\Synchronization project\\\\Code\\\\Synchronization')\n",
    "project_path = os.getcwd()\n",
    "\n",
    "# change temporarily the working directory to go fetch the poly5 reader: this is the code_path\n",
    "os.chdir(os.path.dirname(os.getcwd()))\n",
    "os.chdir(os.path.join(os.getcwd(), 'tmsi-python-interface-main'))\n",
    "code_path = os.getcwd()\n",
    "\n",
    "print (f'working dir for analysis:{project_path}')\n",
    "print (f'working dir to go fetch Poly5 reader:{code_path}')\n",
    "\n",
    "#fetch the poly5 reader\n",
    "from TMSiFileFormats.file_readers import Poly5Reader\n",
    "\n",
    "# set the working directory back to the project_path\n",
    "os.chdir(project_path)\n",
    "\n",
    "# load pyPerceive functions\n",
    "os.chdir('c:\\\\Users\\\\Juliette\\\\Research\\\\Projects\\\\Synchronization project\\\\Code\\\\Synchronization')\n",
    "project_path = os.getcwd()\n",
    "os.chdir(os.path.dirname(os.getcwd()))\n",
    "os.chdir(os.path.join(os.getcwd(), 'PyPerceive'))\n",
    "os.chdir(os.path.join(os.getcwd(), 'code'))\n",
    "code_path = os.getcwd()\n",
    "print (f'working dir for analysis:{project_path}')\n",
    "print (f'working dir to go fetch PyPerceive functions:{code_path}')\n",
    "\n",
    "from PerceiveImport.classes import (\n",
    "    main_class, modality_class, metadata_class,\n",
    "    session_class, condition_class, task_class,\n",
    "    contact_class, run_class\n",
    ")\n",
    "import PerceiveImport.methods.load_rawfile as load_rawfile\n",
    "import PerceiveImport.methods.find_folders as find_folders\n",
    "import PerceiveImport.methods.metadata_helpers as metaHelpers\n",
    "\n",
    "#reset the proper working directory for the analysis\n",
    "os.chdir(project_path)"
   ]
  },
  {
   "attachments": {},
   "cell_type": "markdown",
   "metadata": {},
   "source": [
    "Open Percept file"
   ]
  },
  {
   "cell_type": "code",
   "execution_count": null,
   "metadata": {},
   "outputs": [],
   "source": [
    "#change datapath, filename, name of the variable containing the array + index of the channel if necessary\n",
    "\n",
    "datapath = 'C:\\\\Users\\\\Juliette\\\\OneDrive - Charité - Universitätsmedizin Berlin\\\\Recordings\\\\PERCEPT\\\\sub-029\\\\FTG\\\\sub-000PStn\\\\ses-2023021610075182\\\\ieeg'\n",
    "filename = 'sub-000PStn_ses-2023021610075182_run-BrainSense20230216104500.mat'\n",
    "data = mne.io.read_raw_fieldtrip(        \n",
    "\tos.path.join(datapath, filename),        \n",
    "\tinfo={}, # add info here        \n",
    "\tdata_name='data',  # name of heading dict/ variable of original MATLAB object    \n",
    ")\n",
    "data.ch_names\n",
    "n_chan = len(data.ch_names)\n",
    "data.n_times #number of samples\n",
    "data.times #timepoints set to zero\n",
    "data._data # channel trials\n",
    "data.info['sfreq'] # sampling frequency\n",
    "time_duration = (data.n_times/data.info['sfreq']).astype(float)\n",
    "time_duration_ms=time_duration*1000\n",
    "print(     \n",
    "\tf'The data object has:\\n\\t{data.n_times} time samples,'      \n",
    "\tf'\\n\\tand a sample frequency of {data.info[\"sfreq\"]} Hz'      \n",
    "\tf'\\n\\twith a recording duration of {time_duration} seconds.'      \n",
    "\tf'\\n\\t{n_chan} channels were labeled as \\n{data.ch_names}.')\n",
    "\n",
    "LFP_Stn_R_13 = data.get_data()[1]\n",
    "x1_time=np.arange(0,time_duration_ms,time_duration_ms/data.n_times)\n",
    "\n",
    "#visualize raw datas\n",
    "plt.xlabel('Time (ms)')\n",
    "plt.ylabel('LFP (µV)')\n",
    "plt.plot(x1_time,LFP_Stn_R_13, linewidth=1,color='orange')\n"
   ]
  },
  {
   "attachments": {},
   "cell_type": "markdown",
   "metadata": {},
   "source": [
    "Open TMSi file"
   ]
  },
  {
   "cell_type": "code",
   "execution_count": null,
   "metadata": {},
   "outputs": [],
   "source": [
    "#change name of the variable containing the array + index of the channel if necessary\n",
    "\n",
    "TMSi_data = Poly5Reader()\n",
    "\n",
    "# Extract the samples and channel names from the Poly5Reader object\n",
    "samples = TMSi_data.samples\n",
    "ch_names = TMSi_data.ch_names\n",
    "\n",
    "# Conversion to MNE raw array\n",
    "\n",
    "toMNE = True\n",
    "mne_object = TMSi_data.read_data_MNE()\n",
    "\n",
    "# Retrieve the MNE RawArray info and sample data\n",
    "info_mne = mne_object.info\n",
    "samples_mne = mne_object._data\n",
    "    \n",
    "#mne_object.plot(start = 5, duration = 5, n_channels = 2) #(only if I want to plot in interactive viewer)\n",
    "\n",
    "n_chan = len(mne_object.ch_names)\n",
    "time_duration = (mne_object.n_times/mne_object.info['sfreq']).astype(float)\n",
    "time_duration_ms=time_duration*1000\n",
    "\n",
    "print(     \n",
    "\tf'The data object has:\\n\\t{mne_object.n_times} time samples,'      \n",
    "\tf'\\n\\tand a sample frequency of {mne_object.info[\"sfreq\"]} Hz'      \n",
    "\tf'\\n\\twith a recording duration of {time_duration} seconds.'      \n",
    "\tf'\\n\\t{n_chan} channels were labeled as \\n{mne_object.ch_names}.')\n",
    "\n",
    "BIP01 = mne_object.get_data()[0]\n",
    "BIP02 = mne_object.get_data()[1]\n",
    "BIP03 = mne_object.get_data()[2]\n",
    "x2_time=np.arange(0,time_duration_ms,time_duration_ms/mne_object.n_times)\n",
    "\n",
    "#visualize raw data\n",
    "plt.xlabel('Time (ms)')\n",
    "plt.ylabel('Voltage (AU)')\n",
    "plt.plot(x2_time,BIP03,linewidth=1)\n",
    "plt.xlim\n",
    "plt.show()\n",
    "\n",
    "mne_object.plot(start = 5, duration = 5, n_channels = 3)"
   ]
  },
  {
   "attachments": {},
   "cell_type": "markdown",
   "metadata": {},
   "source": [
    "Plot in the same graph TMSi + Percept datas"
   ]
  },
  {
   "cell_type": "code",
   "execution_count": null,
   "metadata": {},
   "outputs": [],
   "source": [
    "fig, (ax1, ax2, ax3, ax4) = plt.subplots(4,1)\n",
    "fig.suptitle('Sub-029_FTG_M1S1_Ent_RampUpThresh_artefact1') #change title\n",
    "ax1.ticklabel_format(axis='x',style='sci',scilimits=(3,3))\n",
    "ax1.axes.xaxis.set_ticklabels([])\n",
    "ax2.ticklabel_format(axis='x',style='sci',scilimits=(3,3))\n",
    "ax2.axes.xaxis.set_ticklabels([])\n",
    "ax3.ticklabel_format(axis='x',style='sci',scilimits=(3,3))\n",
    "ax3.axes.xaxis.set_ticklabels([])\n",
    "ax4.ticklabel_format(axis='x',style='sci',scilimits=(3,3))\n",
    "ax4.set_xlabel('Time (ms)')\n",
    "ax2.set_ylabel('BIP01\\nIPG + Cable',size=10)\n",
    "ax3.set_ylabel('BIP02\\nAcross IPG',size=10)\n",
    "ax4.set_ylabel('BIP03\\nECG',size=10)\n",
    "ax1.set_ylabel('LFP (µV)',size=10)\n",
    "ax1.set_xlim(156000,160000)\n",
    "ax2.set_xlim(171700,175700)\n",
    "#ax2.set_ylim(0,0.005)\n",
    "ax3.set_xlim(171700,175700)\n",
    "ax3.set_ylim(-0.004,0.004)\n",
    "ax4.set_xlim(171700,175700)\n",
    "ax4.set_ylim(-0.03,-0.025)\n",
    "ax1.plot(x1_time,LFP_Stn_R_13,color='orange') #select proper LFP channel\n",
    "ax2.plot(x2_time,BIP01, color='blue') #select proper sensor channel\n",
    "ax3.plot(x2_time,BIP02, color='green') #select proper sensor channel\n",
    "ax4.plot(x2_time,BIP03, color='purple') #select proper sensor channel"
   ]
  },
  {
   "attachments": {},
   "cell_type": "markdown",
   "metadata": {},
   "source": [
    "Save the plot in the Figures file"
   ]
  },
  {
   "cell_type": "code",
   "execution_count": null,
   "metadata": {},
   "outputs": [],
   "source": [
    "fig.savefig('C:\\\\Users\\\\Juliette\\\\OneDrive\\\\Documents\\\\PhD\\\\Figures\\\\Sub-023_20MFU_M1S0_BrStr_Rest_artefact6.png',transparent=True, bbox_inches='tight')"
   ]
  }
 ],
 "metadata": {
  "kernelspec": {
   "display_name": "mne",
   "language": "python",
   "name": "python3"
  },
  "language_info": {
   "codemirror_mode": {
    "name": "ipython",
    "version": 3
   },
   "file_extension": ".py",
   "mimetype": "text/x-python",
   "name": "python",
   "nbconvert_exporter": "python",
   "pygments_lexer": "ipython3",
   "version": "3.10.9"
  },
  "orig_nbformat": 4,
  "vscode": {
   "interpreter": {
    "hash": "d88ae3f494ed6750ac12c087146162cb95510d20525109b4b9e2bae86cf73368"
   }
  }
 },
 "nbformat": 4,
 "nbformat_minor": 2
}
