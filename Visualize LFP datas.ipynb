{
 "cells": [
  {
   "attachments": {},
   "cell_type": "markdown",
   "metadata": {},
   "source": [
    "**BrainSense Streaming modality:**\n",
    "The aim is to visualize LFP recordings from PERCEPT patients and the stimulation as recorded by the Medtronic system. We need to see how much delay there is between reported stim and LFP visible artefact. Then, we need to align those datas with the EMG bipolar recordings to see if the artefacts are sufficiently precise to do a perfect alignement.\n",
    "\n",
    "**Indefinite Streaming modality:**\n",
    "The aim is to visualize LFP recordings from PERCEPT patients and look for artefacts caused by tapping on the IPG (10 taps in the beginning of each recordings). Then, we need to align those datas with the EMG bipolar recordings to see if the artefacts are sufficiently precise to do a perfect alignement.\n",
    "\n",
    "Steps:\n",
    "1) check if artefacts are always present in the LFP recordings\n",
    "    --> artefacts present in 2/2 BS Streaming but with different amplitudes\n",
    "    --> artefacts not found in Indefinite Streaming mode\n",
    "2) check the delay between reported stim and visible artefact (for BrainSense Streaming only)\n",
    "3) check if the artefacts are always present in EMG recordings --> for these, learn to open TMSi files\n",
    "4) try to align based on first artefact from LFP recordings with EMG recording, then check if the other artefacts are automatically aligned.\n",
    "\n",
    "**Careful** : because the sampling rate is different between the stim recorded (2Hz) and the LFP (250Hz), there is a delay between those signals when we try to align. Based on this experiment, it is important that we use the same sampling frequency between LFP recordings and EMG/accelerometers recordings I think..?\n"
   ]
  },
  {
   "attachments": {},
   "cell_type": "markdown",
   "metadata": {},
   "source": [
    "**Import all the librairies**"
   ]
  },
  {
   "cell_type": "code",
   "execution_count": 1,
   "metadata": {},
   "outputs": [],
   "source": [
    "import os\n",
    "import sys\n",
    "import importlib\n",
    "import json\n",
    "from dataclasses import dataclass, field, fields\n",
    "from itertools import compress\n",
    "import csv\n",
    "import pandas as pd\n",
    "import numpy as np\n",
    "import scipy\n",
    "import matplotlib.pyplot as plt\n",
    "from scipy import signal\n",
    "import openpyxl\n",
    "from openpyxl import Workbook, load_workbook\n",
    "import xlrd\n",
    "#MNE\n",
    "import mne\n",
    "from mne.time_frequency import tfr_morlet\n",
    "from importlib import reload "
   ]
  },
  {
   "attachments": {},
   "cell_type": "markdown",
   "metadata": {},
   "source": [
    "**Parameters to select the recording(s) of interest for the analysis**\n"
   ]
  },
  {
   "cell_type": "code",
   "execution_count": null,
   "metadata": {},
   "outputs": [],
   "source": [
    "\"\"\"\n",
    "\n",
    "incl_modalities: \"survey\", \"streaming\", \"timeline\", \"indefiniteStreaming\"\n",
    "incl_session: \"postop\", \"fu3m\", \"fu12m\", \"fu18m\", \"fu24m\"\n",
    "incl_condition: \"m0s0\", \"m1s0\", \"m0s1\", \"m1s1\"\n",
    "incl_task: \"rest\", \"tapping\", \"rota\", \"updrs\", \"monopolar\"\n",
    "incl_contact: \"RingR\", \"SegmIntraR\", \"SegmInterR\", \"RingL\", \"SegmIntraL\", \"SegmInterL\", \"Bip02\", \"Bip13\", \"Ring\", \"Segments\"\n",
    "\n",
    "\"\"\""
   ]
  },
  {
   "attachments": {},
   "cell_type": "markdown",
   "metadata": {},
   "source": [
    "Check package versions"
   ]
  },
  {
   "cell_type": "code",
   "execution_count": 2,
   "metadata": {},
   "outputs": [
    {
     "name": "stdout",
     "output_type": "stream",
     "text": [
      "Python sys 3.10.9 | packaged by conda-forge | (main, Feb  2 2023, 20:14:58) [MSC v.1929 64 bit (AMD64)]\n",
      "pandas 1.5.3\n",
      "numpy 1.23.5\n",
      "mne 1.3.0\n"
     ]
    }
   ],
   "source": [
    "# check some package versions for documentation and reproducability\n",
    "print('Python sys', sys.version)\n",
    "print('pandas', pd.__version__)\n",
    "print('numpy', np.__version__)\n",
    "#print('mne_bids', mne_bids.__version__)\n",
    "print('mne', mne.__version__)\n"
   ]
  },
  {
   "attachments": {},
   "cell_type": "markdown",
   "metadata": {},
   "source": [
    "Load PyPerceive functions"
   ]
  },
  {
   "cell_type": "code",
   "execution_count": 3,
   "metadata": {},
   "outputs": [
    {
     "name": "stdout",
     "output_type": "stream",
     "text": [
      "working dir for analysis:c:\\Users\\Juliette\\Research\\Projects\\Synchronization project\\Code\\Synchronization\n",
      "working dir to go fetch PyPerceive functions:c:\\Users\\Juliette\\Research\\Projects\\Synchronization project\\Code\\PyPerceive\\code\n"
     ]
    }
   ],
   "source": [
    "os.chdir('c:\\\\Users\\\\Juliette\\\\Research\\\\Projects\\\\Synchronization project\\\\Code\\\\Synchronization')\n",
    "project_path = os.getcwd()\n",
    "os.chdir(os.path.dirname(os.getcwd()))\n",
    "os.chdir(os.path.join(os.getcwd(), 'PyPerceive'))\n",
    "os.chdir(os.path.join(os.getcwd(), 'code'))\n",
    "code_path = os.getcwd()\n",
    "print (f'working dir for analysis:{project_path}')\n",
    "print (f'working dir to go fetch PyPerceive functions:{code_path}')"
   ]
  },
  {
   "cell_type": "code",
   "execution_count": 4,
   "metadata": {},
   "outputs": [],
   "source": [
    "from PerceiveImport.classes import (\n",
    "    main_class, modality_class, metadata_class,\n",
    "    session_class, condition_class, task_class,\n",
    "    contact_class, run_class\n",
    ")\n",
    "import PerceiveImport.methods.load_rawfile as load_rawfile\n",
    "import PerceiveImport.methods.find_folders as find_folders\n",
    "import PerceiveImport.methods.metadata_helpers as metaHelpers"
   ]
  },
  {
   "cell_type": "code",
   "execution_count": 5,
   "metadata": {},
   "outputs": [
    {
     "data": {
      "text/plain": [
       "<module 'PerceiveImport.methods.metadata_helpers' from 'c:\\\\Users\\\\Juliette\\\\Research\\\\Projects\\\\Synchronization project\\\\Code\\\\PyPerceive\\\\code\\\\PerceiveImport\\\\methods\\\\metadata_helpers.py'>"
      ]
     },
     "execution_count": 5,
     "metadata": {},
     "output_type": "execute_result"
    }
   ],
   "source": [
    "# reload classes during debugging\n",
    "importlib.reload(main_class)\n",
    "importlib.reload(session_class)\n",
    "importlib.reload(task_class)\n",
    "importlib.reload(condition_class)\n",
    "importlib.reload(contact_class)\n",
    "importlib.reload(metadata_class)\n",
    "importlib.reload(modality_class)\n",
    "importlib.reload(load_rawfile)\n",
    "importlib.reload(find_folders)\n",
    "importlib.reload(run_class)\n",
    "importlib.reload(metaHelpers)"
   ]
  },
  {
   "cell_type": "code",
   "execution_count": 6,
   "metadata": {},
   "outputs": [],
   "source": [
    "#reset the proper working directory for the analysis\n",
    "os.chdir(project_path)"
   ]
  },
  {
   "cell_type": "code",
   "execution_count": 24,
   "metadata": {},
   "outputs": [
    {
     "name": "stdout",
     "output_type": "stream",
     "text": [
      "Creating RawArray with float64 data, n_channels=6, n_times=5312\n",
      "    Range : 0 ... 5311 =      0.000 ...    21.244 secs\n",
      "Ready.\n",
      "Creating RawArray with float64 data, n_channels=6, n_times=5288\n",
      "    Range : 0 ... 5287 =      0.000 ...    21.148 secs\n",
      "Ready.\n",
      "inserted session (fu12m, survey) can not be found in the metadata table\n",
      "inserted session (fu18m, survey) can not be found in the metadata table\n",
      "Creating RawArray with float64 data, n_channels=6, n_times=31125\n",
      "    Range : 0 ... 31124 =      0.000 ...   124.496 secs\n",
      "Ready.\n",
      "inserted session (fu12m, streaming) can not be found in the metadata table\n",
      "inserted session (fu18m, streaming) can not be found in the metadata table\n"
     ]
    }
   ],
   "source": [
    "# define an example instance and fill in the values of the dataclass PerceiveData \n",
    "# choose the values you are interested in analyzing further\n",
    "\n",
    "sub061 = main_class.PerceiveData(\n",
    "    sub = \"061\", \n",
    "    incl_modalities=['survey', 'streaming'],\n",
    "    incl_session = ['postop', 'fu12m', 'fu18m'],\n",
    "    incl_condition =['m0s0', ],\n",
    "    incl_task = [\"rest\"],\n",
    "    incl_contact = [\"RingL\", \"SegmInterR\", \"SegmIntraR\"],\n",
    "    import_json=False,\n",
    "    warn_for_metaNaNs=True,\n",
    "    # use_bids=True,  # TODO: add to functionality\n",
    ")"
   ]
  },
  {
   "attachments": {},
   "cell_type": "markdown",
   "metadata": {},
   "source": [
    "**MNE object** \n",
    "store the MNE object in a variable "
   ]
  },
  {
   "cell_type": "code",
   "execution_count": 38,
   "metadata": {},
   "outputs": [
    {
     "data": {
      "text/html": [
       "<table class=\"table table-hover table-striped table-sm table-responsive small\">\n",
       "    <tr>\n",
       "        <th>Measurement date</th>\n",
       "        \n",
       "        <td>Unknown</td>\n",
       "        \n",
       "    </tr>\n",
       "    <tr>\n",
       "        <th>Experimenter</th>\n",
       "        \n",
       "        <td>Unknown</td>\n",
       "        \n",
       "    </tr>\n",
       "        <th>Participant</th>\n",
       "        \n",
       "        <td>Unknown</td>\n",
       "        \n",
       "    </tr>\n",
       "    <tr>\n",
       "        <th>Digitized points</th>\n",
       "        \n",
       "        <td>0 points</td>\n",
       "        \n",
       "    </tr>\n",
       "    <tr>\n",
       "        <th>Good channels</th>\n",
       "        <td>4 misc, 2 Stimulus</td>\n",
       "    </tr>\n",
       "    <tr>\n",
       "        <th>Bad channels</th>\n",
       "        <td>None</td>\n",
       "    </tr>\n",
       "    <tr>\n",
       "        <th>EOG channels</th>\n",
       "        <td>Not available</td>\n",
       "    </tr>\n",
       "    <tr>\n",
       "        <th>ECG channels</th>\n",
       "        <td>Not available</td>\n",
       "    \n",
       "    <tr>\n",
       "        <th>Sampling frequency</th>\n",
       "        <td>250.00 Hz</td>\n",
       "    </tr>\n",
       "    \n",
       "    \n",
       "    <tr>\n",
       "        <th>Highpass</th>\n",
       "        <td>0.00 Hz</td>\n",
       "    </tr>\n",
       "    \n",
       "    \n",
       "    <tr>\n",
       "        <th>Lowpass</th>\n",
       "        <td>125.00 Hz</td>\n",
       "    </tr>\n",
       "    \n",
       "    \n",
       "    \n",
       "    <tr>\n",
       "        <th>Duration</th>\n",
       "        <td>00:02:05 (HH:MM:SS)</td>\n",
       "    </tr>\n",
       "</table>"
      ],
      "text/plain": [
       "<RawArray | 6 x 31125 (124.5 s), ~1.4 MB, data loaded>"
      ]
     },
     "execution_count": 38,
     "metadata": {},
     "output_type": "execute_result"
    }
   ],
   "source": [
    "#store the MNE object in the variable\n",
    "sub061_data = sub061.streaming.postop.m0s0.rest.run1.data\n",
    "#look at the MNE object\n",
    "sub061_data"
   ]
  },
  {
   "attachments": {},
   "cell_type": "markdown",
   "metadata": {},
   "source": [
    "**PLOT THE MNE OBJECT**"
   ]
  },
  {
   "cell_type": "code",
   "execution_count": 42,
   "metadata": {},
   "outputs": [
    {
     "name": "stdout",
     "output_type": "stream",
     "text": [
      "The data object has:\n",
      "\t31125 time samples,\n",
      "\tand a sample frequency of 250.0 Hz\n",
      "\twith a recording duration of 124.5 seconds.\n",
      "\t6 channels were labeled as \n",
      "['LFP_L_02_STN_MT', 'LFP_R_02_STN_MT', 'LFP_L_02_STN_MT_PEAK17Hz_THR20-30_AVG3000ms', 'LFP_R_02_STN_MT_PEAK17Hz_THR20-30_AVG3000ms', 'STIM_L_125Hz_60us', 'STIM_R_125Hz_60us'].\n"
     ]
    },
    {
     "data": {
      "text/plain": [
       "[<matplotlib.lines.Line2D at 0x18a89584a00>]"
      ]
     },
     "execution_count": 42,
     "metadata": {},
     "output_type": "execute_result"
    },
    {
     "data": {
      "image/png": "[encoded data removed]",
      "text/plain": [
       "<Figure size 640x480 with 1 Axes>"
      ]
     },
     "metadata": {},
     "output_type": "display_data"
    }
   ],
   "source": [
    "sub061_data.ch_names\n",
    "n_chan = len(sub061_data.ch_names)\n",
    "sub061_data.n_times #number of samples\n",
    "sub061_data.times #timepoints set to zero\n",
    "sub061_data._data # channel trials\n",
    "sub061_data.info['sfreq'] # sampling frequency\n",
    "time_duration = (sub061_data.n_times/sub061_data.info['sfreq']).astype(float)\n",
    "time_duration_ms=time_duration*1000\n",
    "print(     \n",
    "\tf'The data object has:\\n\\t{sub061_data.n_times} time samples,'      \n",
    "\tf'\\n\\tand a sample frequency of {sub061_data.info[\"sfreq\"]} Hz'      \n",
    "\tf'\\n\\twith a recording duration of {time_duration} seconds.'      \n",
    "\tf'\\n\\t{n_chan} channels were labeled as \\n{sub061_data.ch_names}.')\n",
    "x_time=np.arange(0,time_duration_ms,time_duration_ms/sub061_data.n_times)\n",
    "LFP_L_02_STN_MT = sub061_data.get_data()[0]\n",
    "LFP_R_02_STN_MT =  sub061_data.get_data()[1]\n",
    "plt.title('sub061_data')\n",
    "plt.xlabel('Time (ms)')\n",
    "plt.ylabel('LFP (µV)')\n",
    "plt.plot(x_time,LFP_L_02_STN_MT)\n"
   ]
  },
  {
   "attachments": {},
   "cell_type": "markdown",
   "metadata": {},
   "source": [
    "**try with another subject**"
   ]
  },
  {
   "cell_type": "code",
   "execution_count": null,
   "metadata": {},
   "outputs": [],
   "source": [
    "sub033 = main_class.PerceiveData(\n",
    "    sub = \"033\", \n",
    "    incl_modalities=['survey', 'streaming'],\n",
    "    incl_session = ['postop', 'fu12m', 'fu18m'],\n",
    "    incl_condition =['m0s0','m1s0','m0s1','m1s1' ],\n",
    "    incl_task = [\"rest\"],\n",
    "    incl_contact = [\"RingL\", \"SegmInterR\", \"SegmIntraR\"],\n",
    "    import_json=False,\n",
    "    warn_for_metaNaNs=True,\n",
    "    # use_bids=True,  # TODO: add to functionality\n",
    ")"
   ]
  },
  {
   "attachments": {},
   "cell_type": "markdown",
   "metadata": {},
   "source": [
    "To plot BrainSense Streaming files:"
   ]
  },
  {
   "cell_type": "code",
   "execution_count": null,
   "metadata": {},
   "outputs": [],
   "source": [
    "datapath = 'C:\\\\Users\\\\Juliette\\\\OneDrive - Charité - Universitätsmedizin Berlin\\\\Documents\\\\MATLAB\\\\RawFiles\\\\sub-033\\\\18MFU\\\\MedON\\\\sub-20210902PStn\\\\ses-2023020101261271\\\\ieeg'\n",
    "filename = 'sub-20210902PStn_ses-2023020101261271_run-BrainSense20230201014600.mat'\n",
    "data = mne.io.read_raw_fieldtrip(        \n",
    "\tos.path.join(datapath, filename),        \n",
    "\tinfo={}, # add info here        \n",
    "\tdata_name='data',  # name of heading dict/ variable of original MATLAB object    \n",
    ")\n",
    "data.ch_names\n",
    "n_chan = len(data.ch_names)\n",
    "data.n_times #number of samples\n",
    "data.times #timepoints set to zero\n",
    "data._data # channel trials\n",
    "data.info['sfreq'] # sampling frequency\n",
    "time_duration = (data.n_times/data.info['sfreq']).astype(float)\n",
    "time_duration_ms=time_duration*1000\n",
    "print(     \n",
    "\tf'The data object has:\\n\\t{data.n_times} time samples,'      \n",
    "\tf'\\n\\tand a sample frequency of {data.info[\"sfreq\"]} Hz'      \n",
    "\tf'\\n\\twith a recording duration of {time_duration} seconds.'      \n",
    "\tf'\\n\\t{n_chan} channels were labeled as \\n{data.ch_names}.')\n",
    "x_time=np.arange(0,time_duration_ms,4)\n",
    "LFP_Stn_L_13 = data.get_data()[0]\n",
    "LFP_Stn_R_13 =  data.get_data()[1]\n",
    "plt.title('sub-033 18 MFU LFP STN L MedON 0.5mA stim L')\n",
    "plt.xlabel('Time (ms)')\n",
    "plt.ylabel('LFP (µV)')\n",
    "plt.plot(x_time,LFP_Stn_L_13)\n"
   ]
  },
  {
   "attachments": {},
   "cell_type": "markdown",
   "metadata": {},
   "source": [
    "1) Check the presence of the artefacts in LFP recordings.\n",
    "To plot BrainSense Streaming files with the stim:"
   ]
  },
  {
   "attachments": {},
   "cell_type": "markdown",
   "metadata": {},
   "source": [
    "**SUB-033 (with Jenny)**"
   ]
  },
  {
   "attachments": {},
   "cell_type": "markdown",
   "metadata": {},
   "source": [
    "Sub-033 18MFU MedON Stim Off Streaming Rest/Sync:"
   ]
  },
  {
   "cell_type": "code",
   "execution_count": null,
   "metadata": {},
   "outputs": [],
   "source": [
    "# First import the file and check the properties:\n",
    "\n",
    "datapath = 'C:\\\\Users\\\\Juliette\\\\OneDrive - Charité - Universitätsmedizin Berlin\\\\Documents\\\\MATLAB\\\\RawFiles\\\\sub-033\\\\18MFU\\\\MedON\\\\sub-20210902PStn\\\\ses-2023020101261271\\\\ieeg'\n",
    "filename = 'sub-20210902PStn_ses-2023020101261271_run-BrainSense20230201014600.mat'\n",
    "data = mne.io.read_raw_fieldtrip(        \n",
    "\tos.path.join(datapath, filename),        \n",
    "\tinfo={}, # add info here        \n",
    "\tdata_name='data',  # name of heading dict/ variable of original MATLAB object    \n",
    ")\n",
    "data.ch_names\n",
    "n_chan = len(data.ch_names)\n",
    "data.n_times #number of samples\n",
    "data.times #timepoints set to zero\n",
    "data._data # channel trials\n",
    "data.info['sfreq'] # sampling frequency\n",
    "time_duration = (data.n_times/data.info['sfreq']).astype(float)\n",
    "time_duration_ms=time_duration*1000\n",
    "print(     \n",
    "\tf'The data object has:\\n\\t{data.n_times} time samples,'      \n",
    "\tf'\\n\\tand a sample frequency of {data.info[\"sfreq\"]} Hz'      \n",
    "\tf'\\n\\twith a recording duration of {time_duration} seconds.'      \n",
    "\tf'\\n\\t{n_chan} channels were labeled as \\n{data.ch_names}.')\n",
    "x_time=np.arange(0,time_duration_ms,4)\n",
    "\n",
    "# fetch and plot the proper channels\n",
    "\n",
    "LFP_Stn_L_13 = data.get_data()[0]\n",
    "LFP_Stn_R_13 = data.get_data()[1]\n",
    "STIM_L_125Hz_60us =  data.get_data()[4]\n",
    "fig, (ax1, ax2, ax3) = plt.subplots(3,1,height_ratios=[1,5,5])\n",
    "fig.suptitle('sub-033 18 MFU LFP STN MedON 0.5mA stim L')\n",
    "ax3.set_xlabel('Time (ms)')\n",
    "ax2.set_ylabel('STN_L LFP (µV)',size=8)\n",
    "ax3.set_ylabel('STN_R LFP (µV)',size=8)\n",
    "ax1.set_ylabel('Stimulation amplitude (mA)',size=8)\n",
    "ax1.plot(x_time,STIM_L_125Hz_60us,color='orange')\n",
    "ax2.plot(x_time,LFP_Stn_L_13)\n",
    "ax3.plot(x_time,LFP_Stn_R_13, color='green')\n",
    "#ax1.figure.set_figwidth(20)\n",
    "#ax1.figure.set_figheight(5)\n",
    "fig.set_size_inches(28.5, 18.5)\t"
   ]
  },
  {
   "attachments": {},
   "cell_type": "markdown",
   "metadata": {},
   "source": [
    "Sub-033 18MFU MedON Stim Off Indefinite Streaming:"
   ]
  },
  {
   "cell_type": "code",
   "execution_count": null,
   "metadata": {},
   "outputs": [],
   "source": [
    "datapath = 'C:\\\\Users\\\\Juliette\\\\OneDrive - Charité - Universitätsmedizin Berlin\\\\Documents\\\\MATLAB\\\\RawFiles\\\\sub-033\\\\18MFU\\\\MedON\\\\sub-20210902PStn\\\\ses-2023020101261271\\\\ieeg'\n",
    "filename = 'sub-20210902PStn_ses-2023020101261271_run-IS20230201013800.mat'\n",
    "data = mne.io.read_raw_fieldtrip(        \n",
    "\tos.path.join(datapath, filename),        \n",
    "\tinfo={}, # add info here        \n",
    "\tdata_name='data',  # name of heading dict/ variable of original MATLAB object    \n",
    ")\n",
    "data.ch_names\n",
    "n_chan = len(data.ch_names)\n",
    "data.n_times #number of samples\n",
    "data.times #timepoints set to zero\n",
    "data._data # channel trials\n",
    "data.info['sfreq'] # sampling frequency\n",
    "time_duration = (data.n_times/data.info['sfreq']).astype(float)\n",
    "time_duration_ms=time_duration*1000\n",
    "print(     \n",
    "\tf'The data object has:\\n\\t{data.n_times} time samples,'      \n",
    "\tf'\\n\\tand a sample frequency of {data.info[\"sfreq\"]} Hz'      \n",
    "\tf'\\n\\twith a recording duration of {time_duration} seconds.'      \n",
    "\tf'\\n\\t{n_chan} channels were labeled as \\n{data.ch_names}.')\n",
    "x_time=np.arange(0,time_duration_ms,4)\n",
    "LFP_Stn_L_03 = data.get_data()[0]\n",
    "LFP_Stn_L_13 = data.get_data()[1]\n",
    "LFP_Stn_L_02 = data.get_data()[2]\n",
    "LFP_Stn_R_03 = data.get_data()[3]\n",
    "LFP_Stn_R_13 = data.get_data()[4]\n",
    "LFP_Stn_R_02 = data.get_data()[5]\n",
    "LFP_Stn_L_01 = data.get_data()[6]\n",
    "LFP_Stn_L_12 = data.get_data()[7]\n",
    "LFP_Stn_L_23 = data.get_data()[8]\n",
    "LFP_Stn_R_01 = data.get_data()[9]\n",
    "LFP_Stn_R_12 = data.get_data()[10]\n",
    "LFP_Stn_R_23 = data.get_data()[11]\n",
    "fig, axs = plt.subplots(12)\n",
    "fig.suptitle('sub-033 18 MFU Indefinite streaming MedON')\n",
    "axs[0].plot(x_time,LFP_Stn_L_03,color='blue')\n",
    "axs[0].set_title('LFP_Stn_L_03')\n",
    "axs[1].plot(x_time,LFP_Stn_L_13,color='green')\n",
    "axs[1].set_title('LFP_Stn_L_13')\n",
    "axs[2].plot(x_time,LFP_Stn_L_02,color='orange')\n",
    "axs[2].set_title('LFP_Stn_L_02')\n",
    "axs[3].plot(x_time,LFP_Stn_R_03,color='red')\n",
    "axs[3].set_title('LFP_Stn_R_03')\n",
    "axs[4].plot(x_time,LFP_Stn_R_13,color='pink')\n",
    "axs[4].set_title('FP_Stn_R_13')\n",
    "axs[5].plot(x_time,LFP_Stn_R_02,color='purple')\n",
    "axs[5].set_title('LFP_Stn_R_02')\n",
    "axs[6].plot(x_time,LFP_Stn_L_01,color='black')\n",
    "axs[6].set_title('LFP_Stn_L_01')\n",
    "axs[7].plot(x_time,LFP_Stn_L_12,color='brown')\n",
    "axs[7].set_title('LFP_Stn_L_12')\n",
    "axs[8].plot(x_time,LFP_Stn_L_23)\n",
    "axs[8].set_title('LFP_Stn_L_23')\n",
    "axs[9].plot(x_time,LFP_Stn_R_01,color='grey')\n",
    "axs[9].set_title('LFP_Stn_R_01')\n",
    "axs[10].plot(x_time,LFP_Stn_R_12,color='cyan')\n",
    "axs[10].set_title('LFP_Stn_R_12')\n",
    "axs[11].plot(x_time,LFP_Stn_R_23,color='magenta')\n",
    "axs[11].set_title('LFP_Stn_R_23')\n",
    "axs[11].set_xlabel('Time (ms)')\n",
    "for ax in axs.flat:\n",
    "    ax.label_outer()\n",
    "fig.set_size_inches(28.5, 18.5)\t"
   ]
  },
  {
   "cell_type": "code",
   "execution_count": null,
   "metadata": {},
   "outputs": [],
   "source": [
    "# Try to zoom on the beginning to find the taps:\n",
    "\n",
    "datapath = 'C:\\\\Users\\\\Juliette\\\\OneDrive - Charité - Universitätsmedizin Berlin\\\\Documents\\\\MATLAB\\\\RawFiles\\\\sub-033\\\\18MFU\\\\MedON\\\\sub-20210902PStn\\\\ses-2023020101261271\\\\ieeg'\n",
    "filename = 'sub-20210902PStn_ses-2023020101261271_run-IS20230201013800.mat'\n",
    "data = mne.io.read_raw_fieldtrip(        \n",
    "\tos.path.join(datapath, filename),        \n",
    "\tinfo={}, # add info here        \n",
    "\tdata_name='data',  # name of heading dict/ variable of original MATLAB object    \n",
    ")\n",
    "data.ch_names\n",
    "n_chan = len(data.ch_names)\n",
    "data.n_times #number of samples\n",
    "data.times #timepoints set to zero\n",
    "data._data # channel trials\n",
    "data.info['sfreq'] # sampling frequency\n",
    "time_duration = (data.n_times/data.info['sfreq']).astype(float)\n",
    "time_duration_ms=time_duration*1000\n",
    "print(     \n",
    "\tf'The data object has:\\n\\t{data.n_times} time samples,'      \n",
    "\tf'\\n\\tand a sample frequency of {data.info[\"sfreq\"]} Hz'      \n",
    "\tf'\\n\\twith a recording duration of {time_duration} seconds.'      \n",
    "\tf'\\n\\t{n_chan} channels were labeled as \\n{data.ch_names}.')\n",
    "x_time=np.arange(0,time_duration_ms,4)\n",
    "LFP_Stn_L_03 = data.get_data()[0]\n",
    "LFP_Stn_L_13 = data.get_data()[1]\n",
    "LFP_Stn_L_02 = data.get_data()[2]\n",
    "LFP_Stn_R_03 = data.get_data()[3]\n",
    "LFP_Stn_R_13 = data.get_data()[4]\n",
    "LFP_Stn_R_02 = data.get_data()[5]\n",
    "LFP_Stn_L_01 = data.get_data()[6]\n",
    "LFP_Stn_L_12 = data.get_data()[7]\n",
    "LFP_Stn_L_23 = data.get_data()[8]\n",
    "LFP_Stn_R_01 = data.get_data()[9]\n",
    "LFP_Stn_R_12 = data.get_data()[10]\n",
    "LFP_Stn_R_23 = data.get_data()[11]\n",
    "fig, axs = plt.subplots(12)\n",
    "x_min=0\n",
    "x_max=30000\n",
    "axs[0].set_xlim(x_min,x_max)\n",
    "axs[1].set_xlim(x_min,x_max)\n",
    "axs[2].set_xlim(x_min,x_max)\n",
    "axs[3].set_xlim(x_min,x_max)\n",
    "axs[4].set_xlim(x_min,x_max)\n",
    "axs[5].set_xlim(x_min,x_max)\n",
    "axs[6].set_xlim(x_min,x_max)\n",
    "axs[7].set_xlim(x_min,x_max)\n",
    "axs[8].set_xlim(x_min,x_max)\n",
    "axs[9].set_xlim(x_min,x_max)\n",
    "axs[10].set_xlim(x_min,x_max)\n",
    "axs[11].set_xlim(x_min,x_max)\n",
    "fig.suptitle('sub-033 18 MFU Indefinite streaming MedON')\n",
    "axs[0].plot(x_time,LFP_Stn_L_03,color='blue')\n",
    "axs[0].set_title('LFP_Stn_L_03')\n",
    "axs[1].plot(x_time,LFP_Stn_L_13,color='green')\n",
    "axs[1].set_title('LFP_Stn_L_13')\n",
    "axs[2].plot(x_time,LFP_Stn_L_02,color='orange')\n",
    "axs[2].set_title('LFP_Stn_L_02')\n",
    "axs[3].plot(x_time,LFP_Stn_R_03,color='red')\n",
    "axs[3].set_title('LFP_Stn_R_03')\n",
    "axs[4].plot(x_time,LFP_Stn_R_13,color='pink')\n",
    "axs[4].set_title('FP_Stn_R_13')\n",
    "axs[5].plot(x_time,LFP_Stn_R_02,color='purple')\n",
    "axs[5].set_title('LFP_Stn_R_02')\n",
    "axs[6].plot(x_time,LFP_Stn_L_01,color='black')\n",
    "axs[6].set_title('LFP_Stn_L_01')\n",
    "axs[7].plot(x_time,LFP_Stn_L_12,color='brown')\n",
    "axs[7].set_title('LFP_Stn_L_12')\n",
    "axs[8].plot(x_time,LFP_Stn_L_23)\n",
    "axs[8].set_title('LFP_Stn_L_23')\n",
    "axs[9].plot(x_time,LFP_Stn_R_01,color='grey')\n",
    "axs[9].set_title('LFP_Stn_R_01')\n",
    "axs[10].plot(x_time,LFP_Stn_R_12,color='cyan')\n",
    "axs[10].set_title('LFP_Stn_R_12')\n",
    "axs[11].plot(x_time,LFP_Stn_R_23,color='magenta')\n",
    "axs[11].set_title('LFP_Stn_R_23')\n",
    "axs[11].set_xlabel('Time (ms)')\n",
    "for ax in axs.flat:\n",
    "    ax.label_outer()\n",
    "fig.set_size_inches(28.5, 40)"
   ]
  },
  {
   "attachments": {},
   "cell_type": "markdown",
   "metadata": {},
   "source": [
    "Sub-033 18MFU MedOff Stim Off Streaming Rest/Sync:"
   ]
  },
  {
   "cell_type": "code",
   "execution_count": null,
   "metadata": {},
   "outputs": [],
   "source": [
    "#add code\n",
    "\n",
    "#file is not yet perceived"
   ]
  },
  {
   "attachments": {},
   "cell_type": "markdown",
   "metadata": {},
   "source": [
    "Sub-033 18MFU Med Off Stim Off Indefinite Streaming:"
   ]
  },
  {
   "cell_type": "code",
   "execution_count": null,
   "metadata": {},
   "outputs": [],
   "source": [
    "#add code\n",
    "\n",
    "#file is not yet perceived"
   ]
  },
  {
   "attachments": {},
   "cell_type": "markdown",
   "metadata": {},
   "source": [
    "**SUB-036 (with Barbara)**"
   ]
  },
  {
   "attachments": {},
   "cell_type": "markdown",
   "metadata": {},
   "source": [
    "Sub-036 12MFU MedOff Stim Off / Stim ON: "
   ]
  },
  {
   "cell_type": "code",
   "execution_count": null,
   "metadata": {},
   "outputs": [],
   "source": [
    "#can't find any files for BrainSense Streaming, nor for Indefinite Streaming \n",
    "# --> patient was only MedON this day so that's normal"
   ]
  },
  {
   "attachments": {},
   "cell_type": "markdown",
   "metadata": {},
   "source": [
    "Sub-036 12MFU MedON Stim Off BrainSense Streaming:"
   ]
  },
  {
   "cell_type": "code",
   "execution_count": null,
   "metadata": {},
   "outputs": [],
   "source": [
    "# First import the file and check the properties:\n",
    "\n",
    "datapath = 'C:\\\\Users\\\\Juliette\\\\OneDrive - Charité - Universitätsmedizin Berlin\\\\Documents\\\\MATLAB\\\\RawFiles\\\\sub-036\\\\12MFU\\\\MedON\\\\sub-20220127PStn\\\\ses-2023020112031786\\\\ieeg'\n",
    "filename = 'sub-20220127PStn_ses-2023020112031786_run-BrainSense20230201123700.mat'\n",
    "data = mne.io.read_raw_fieldtrip(        \n",
    "\tos.path.join(datapath, filename),        \n",
    "\tinfo={}, # add info here        \n",
    "\tdata_name='data',  # name of heading dict/ variable of original MATLAB object    \n",
    ")\n",
    "data.ch_names\n",
    "n_chan = len(data.ch_names)\n",
    "data.n_times #number of samples\n",
    "data.times #timepoints set to zero\n",
    "data._data # channel trials\n",
    "data.info['sfreq'] # sampling frequency\n",
    "time_duration = (data.n_times/data.info['sfreq']).astype(float)\n",
    "time_duration_ms=time_duration*1000\n",
    "print(     \n",
    "\tf'The data object has:\\n\\t{data.n_times} time samples,'      \n",
    "\tf'\\n\\tand a sample frequency of {data.info[\"sfreq\"]} Hz'      \n",
    "\tf'\\n\\twith a recording duration of {time_duration} seconds.'      \n",
    "\tf'\\n\\t{n_chan} channels were labeled as \\n{data.ch_names}.')\n",
    "x_time=np.arange(0,time_duration_ms,4)\n",
    "\n",
    "# fetch and plot the proper channels\n",
    "\n",
    "LFP_Stn_L_03 = data.get_data()[0]\n",
    "LFP_Stn_R_03 = data.get_data()[1]\n",
    "STIM_L_125Hz_60us =  data.get_data()[4]\n",
    "fig, (ax1, ax2, ax3) = plt.subplots(3,1,height_ratios=[1,5,5])\n",
    "fig.suptitle('sub-036 12 MFU LFP STN MedON 0.5mA stim L')\n",
    "ax3.set_xlabel('Time (ms)')\n",
    "ax2.set_ylabel('STN_L LFP (µV)',size=8)\n",
    "ax3.set_ylabel('STN_R LFP (µV)',size=8)\n",
    "ax1.set_ylabel('Stimulation amplitude (mA)',size=8)\n",
    "ax1.plot(x_time,STIM_L_125Hz_60us,color='orange')\n",
    "ax2.plot(x_time,LFP_Stn_L_03)\n",
    "ax3.plot(x_time,LFP_Stn_R_03,color='green')\n",
    "ax1.figure.set_figwidth(20)\n",
    "ax1.figure.set_figheight(5)"
   ]
  },
  {
   "cell_type": "code",
   "execution_count": null,
   "metadata": {},
   "outputs": [],
   "source": [
    "# Zoom on first stimulation train and compare with stimulation\n",
    "\n",
    "datapath = 'C:\\\\Users\\\\Juliette\\\\OneDrive - Charité - Universitätsmedizin Berlin\\\\Documents\\\\MATLAB\\\\RawFiles\\\\sub-036\\\\12MFU\\\\MedON\\\\sub-20220127PStn\\\\ses-2023020112031786\\\\ieeg'\n",
    "filename = 'sub-20220127PStn_ses-2023020112031786_run-BrainSense20230201123700.mat'\n",
    "data = mne.io.read_raw_fieldtrip(        \n",
    "\tos.path.join(datapath, filename),        \n",
    "\tinfo={}, # add info here        \n",
    "\tdata_name='data',  # name of heading dict/ variable of original MATLAB object    \n",
    ")\n",
    "data.ch_names\n",
    "n_chan = len(data.ch_names)\n",
    "data.n_times #number of samples\n",
    "data.times #timepoints set to zero\n",
    "data._data # channel trials\n",
    "data.info['sfreq'] # sampling frequency\n",
    "time_duration = (data.n_times/data.info['sfreq']).astype(float)\n",
    "time_duration_ms=time_duration*1000\n",
    "print(     \n",
    "\tf'The data object has:\\n\\t{data.n_times} time samples,'      \n",
    "\tf'\\n\\tand a sample frequency of {data.info[\"sfreq\"]} Hz'      \n",
    "\tf'\\n\\twith a recording duration of {time_duration} seconds.'      \n",
    "\tf'\\n\\t{n_chan} channels were labeled as \\n{data.ch_names}.')\n",
    "x_time=np.arange(0,time_duration_ms,4)\n",
    "LFP_Stn_L_13 = data.get_data()[0]\n",
    "STIM_L_125Hz_60us =  data.get_data()[4]\n",
    "x_min=8000\n",
    "x_max=15000\n",
    "y_min=-100\n",
    "y_max=100\n",
    "fig, (ax1, ax2) = plt.subplots(2,1,height_ratios=[1,5])\n",
    "fig.suptitle('sub-036 12 MFU LFP STN L MedON 0.5mA stim L',size=30)\n",
    "ax1.set_xlim(x_min,x_max)\n",
    "ax2.set_xlim(x_min,x_max)\n",
    "ax2.set_ylim(y_min,y_max)\n",
    "ax2.set_xlabel('Time (ms)',size=20)\n",
    "ax2.set_ylabel('LFP (µV)',size=20)\n",
    "ax1.set_ylabel('Stimulation amplitude (mA)',size=20)\n",
    "ax1.plot(x_time,STIM_L_125Hz_60us,color='orange')\n",
    "ax2.plot(x_time,LFP_Stn_L_13)\n",
    "fig.set_size_inches(28.5, 18.5)\t"
   ]
  },
  {
   "attachments": {},
   "cell_type": "markdown",
   "metadata": {},
   "source": [
    "Sub-036 12MFU MedON Stim Off Indefinite Streaming:"
   ]
  },
  {
   "cell_type": "code",
   "execution_count": null,
   "metadata": {},
   "outputs": [],
   "source": [
    "datapath = 'C:\\\\Users\\\\Juliette\\\\OneDrive - Charité - Universitätsmedizin Berlin\\\\Documents\\\\MATLAB\\\\RawFiles\\\\sub-036\\\\12MFU\\\\MedON\\\\sub-20220127PStn\\\\ses-2023020112031786\\\\ieeg'\n",
    "filename = 'sub-20220127PStn_ses-2023020112031786_run-IS20230201123300.mat'\n",
    "data = mne.io.read_raw_fieldtrip(        \n",
    "\tos.path.join(datapath, filename),        \n",
    "\tinfo={}, # add info here        \n",
    "\tdata_name='data',  # name of heading dict/ variable of original MATLAB object    \n",
    ")\n",
    "data.ch_names\n",
    "n_chan = len(data.ch_names)\n",
    "data.n_times #number of samples\n",
    "data.times #timepoints set to zero\n",
    "data._data # channel trials\n",
    "data.info['sfreq'] # sampling frequency\n",
    "time_duration = (data.n_times/data.info['sfreq']).astype(float)\n",
    "time_duration_ms=time_duration*1000\n",
    "print(     \n",
    "\tf'The data object has:\\n\\t{data.n_times} time samples,'      \n",
    "\tf'\\n\\tand a sample frequency of {data.info[\"sfreq\"]} Hz'      \n",
    "\tf'\\n\\twith a recording duration of {time_duration} seconds.'      \n",
    "\tf'\\n\\t{n_chan} channels were labeled as \\n{data.ch_names}.')\n",
    "x_time=np.arange(0,time_duration_ms,4)\n",
    "LFP_Stn_L_03 = data.get_data()[0]\n",
    "LFP_Stn_L_13 = data.get_data()[1]\n",
    "LFP_Stn_L_02 = data.get_data()[2]\n",
    "LFP_Stn_R_03 = data.get_data()[3]\n",
    "LFP_Stn_R_13 = data.get_data()[4]\n",
    "LFP_Stn_R_02 = data.get_data()[5]\n",
    "LFP_Stn_L_01 = data.get_data()[6]\n",
    "LFP_Stn_L_12 = data.get_data()[7]\n",
    "LFP_Stn_L_23 = data.get_data()[8]\n",
    "LFP_Stn_R_01 = data.get_data()[9]\n",
    "LFP_Stn_R_12 = data.get_data()[10]\n",
    "LFP_Stn_R_23 = data.get_data()[11]\n",
    "fig, axs = plt.subplots(12)\n",
    "fig.suptitle('sub-036 12 MFU Indefinite streaming MedON')\n",
    "axs[0].plot(x_time,LFP_Stn_L_03,color='blue')\n",
    "axs[0].set_title('LFP_Stn_L_03')\n",
    "axs[1].plot(x_time,LFP_Stn_L_13,color='green')\n",
    "axs[1].set_title('LFP_Stn_L_13')\n",
    "axs[2].plot(x_time,LFP_Stn_L_02,color='orange')\n",
    "axs[2].set_title('LFP_Stn_L_02')\n",
    "axs[3].plot(x_time,LFP_Stn_R_03,color='red')\n",
    "axs[3].set_title('LFP_Stn_R_03')\n",
    "axs[4].plot(x_time,LFP_Stn_R_13,color='pink')\n",
    "axs[4].set_title('FP_Stn_R_13')\n",
    "axs[5].plot(x_time,LFP_Stn_R_02,color='purple')\n",
    "axs[5].set_title('LFP_Stn_R_02')\n",
    "axs[6].plot(x_time,LFP_Stn_L_01,color='black')\n",
    "axs[6].set_title('LFP_Stn_L_01')\n",
    "axs[7].plot(x_time,LFP_Stn_L_12,color='brown')\n",
    "axs[7].set_title('LFP_Stn_L_12')\n",
    "axs[8].plot(x_time,LFP_Stn_L_23)\n",
    "axs[8].set_title('LFP_Stn_L_23')\n",
    "axs[9].plot(x_time,LFP_Stn_R_01,color='grey')\n",
    "axs[9].set_title('LFP_Stn_R_01')\n",
    "axs[10].plot(x_time,LFP_Stn_R_12,color='cyan')\n",
    "axs[10].set_title('LFP_Stn_R_12')\n",
    "axs[11].plot(x_time,LFP_Stn_R_23,color='magenta')\n",
    "axs[11].set_title('LFP_Stn_R_23')\n",
    "axs[11].set_xlabel('Time (ms)')\n",
    "for ax in axs.flat:\n",
    "    ax.label_outer()\n",
    "fig.set_size_inches(28.5, 18.5)"
   ]
  },
  {
   "attachments": {},
   "cell_type": "markdown",
   "metadata": {},
   "source": [
    "2) check the delay between reported stim and visible artefact (for BrainSense Streaming only)"
   ]
  },
  {
   "attachments": {},
   "cell_type": "markdown",
   "metadata": {},
   "source": [
    "Sub-033 18MFU MedON:"
   ]
  },
  {
   "cell_type": "code",
   "execution_count": null,
   "metadata": {},
   "outputs": [],
   "source": [
    "# zoom on the 3 stimulation trains from the beginning:\n",
    "\n",
    "datapath = 'C:\\\\Users\\\\Juliette\\\\OneDrive - Charité - Universitätsmedizin Berlin\\\\Documents\\\\MATLAB\\\\RawFiles\\\\sub-033\\\\18MFU\\\\MedON\\\\sub-20210902PStn\\\\ses-2023020101261271\\\\ieeg'\n",
    "filename = 'sub-20210902PStn_ses-2023020101261271_run-BrainSense20230201014600.mat'\n",
    "data = mne.io.read_raw_fieldtrip(        \n",
    "\tos.path.join(datapath, filename),        \n",
    "\tinfo={}, # add info here        \n",
    "\tdata_name='data',  # name of heading dict/ variable of original MATLAB object    \n",
    ")\n",
    "data.ch_names\n",
    "n_chan = len(data.ch_names)\n",
    "data.n_times #number of samples\n",
    "data.times #timepoints set to zero\n",
    "data._data # channel trials\n",
    "data.info['sfreq'] # sampling frequency\n",
    "time_duration = (data.n_times/data.info['sfreq']).astype(float)\n",
    "time_duration_ms=time_duration*1000\n",
    "print(     \n",
    "\tf'The data object has:\\n\\t{data.n_times} time samples,'      \n",
    "\tf'\\n\\tand a sample frequency of {data.info[\"sfreq\"]} Hz'      \n",
    "\tf'\\n\\twith a recording duration of {time_duration} seconds.'      \n",
    "\tf'\\n\\t{n_chan} channels were labeled as \\n{data.ch_names}.')\n",
    "LFP_Stn_L_13 = data.get_data()[0]\n",
    "LFP_Stn_R_13 =  data.get_data()[1]\n",
    "x_time=np.arange(0,time_duration_ms,4)\n",
    "x_min=20000\n",
    "x_max=45000\n",
    "y_min=-200\n",
    "y_max=200\n",
    "plt.axis([x_min, x_max,y_min,y_max])\n",
    "plt.title('sub-033 18 MFU LFP STN L MedON 0.5mA stim L')\n",
    "plt.xlabel('Time (ms)')\n",
    "plt.ylabel('LFP (µV)')\n",
    "plt.plot(x_time,LFP_Stn_L_13)\n",
    "\n"
   ]
  },
  {
   "cell_type": "code",
   "execution_count": null,
   "metadata": {},
   "outputs": [],
   "source": [
    "# Zoom on the first stimulation train from the beginning:\n",
    "\n",
    "datapath = 'C:\\\\Users\\\\Juliette\\\\OneDrive - Charité - Universitätsmedizin Berlin\\\\Documents\\\\MATLAB\\\\RawFiles\\\\sub-033\\\\18MFU\\\\MedON\\\\sub-20210902PStn\\\\ses-2023020101261271\\\\ieeg'\n",
    "filename = 'sub-20210902PStn_ses-2023020101261271_run-BrainSense20230201014600.mat'\n",
    "data = mne.io.read_raw_fieldtrip(        \n",
    "\tos.path.join(datapath, filename),        \n",
    "\tinfo={}, # add info here        \n",
    "\tdata_name='data',  # name of heading dict/ variable of original MATLAB object    \n",
    ")\n",
    "data.ch_names\n",
    "n_chan = len(data.ch_names)\n",
    "data.n_times #number of samples\n",
    "data.times #timepoints set to zero\n",
    "data._data # channel trials\n",
    "data.info['sfreq'] # sampling frequency\n",
    "time_duration = (data.n_times/data.info['sfreq']).astype(float)\n",
    "time_duration_ms=time_duration*1000\n",
    "print(     \n",
    "\tf'The data object has:\\n\\t{data.n_times} time samples,'      \n",
    "\tf'\\n\\tand a sample frequency of {data.info[\"sfreq\"]} Hz'      \n",
    "\tf'\\n\\twith a recording duration of {time_duration} seconds.'      \n",
    "\tf'\\n\\t{n_chan} channels were labeled as \\n{data.ch_names}.')\n",
    "LFP_Stn_L_13 = data.get_data()[0]\n",
    "LFP_Stn_R_13 =  data.get_data()[1]\n",
    "x_time=np.arange(0,time_duration_ms,4)\n",
    "x_min=20500\n",
    "x_max=24500\n",
    "y_min=-200\n",
    "y_max=200\n",
    "plt.axis([x_min, x_max,y_min,y_max])\n",
    "plt.title('sub-033 18 MFU LFP STN L MedON 0.5mA stim L')\n",
    "plt.xlabel('Time (ms)')\n",
    "plt.ylabel('LFP (µV)')\n",
    "plt.plot(x_time,LFP_Stn_L_13)"
   ]
  },
  {
   "cell_type": "code",
   "execution_count": null,
   "metadata": {},
   "outputs": [],
   "source": [
    "# Zoom on the first artefact:\n",
    "\n",
    "datapath = 'C:\\\\Users\\\\Juliette\\\\OneDrive - Charité - Universitätsmedizin Berlin\\\\Documents\\\\MATLAB\\\\RawFiles\\\\sub-033\\\\18MFU\\\\MedON\\\\sub-20210902PStn\\\\ses-2023020101261271\\\\ieeg'\n",
    "filename = 'sub-20210902PStn_ses-2023020101261271_run-BrainSense20230201014600.mat'\n",
    "data = mne.io.read_raw_fieldtrip(        \n",
    "\tos.path.join(datapath, filename),        \n",
    "\tinfo={}, # add info here        \n",
    "\tdata_name='data',  # name of heading dict/ variable of original MATLAB object    \n",
    ")\n",
    "data.ch_names\n",
    "n_chan = len(data.ch_names)\n",
    "data.n_times #number of samples\n",
    "data.times #timepoints set to zero\n",
    "data._data # channel trials\n",
    "data.info['sfreq'] # sampling frequency\n",
    "time_duration = (data.n_times/data.info['sfreq']).astype(float)\n",
    "time_duration_ms=time_duration*1000\n",
    "print(     \n",
    "\tf'The data object has:\\n\\t{data.n_times} time samples,'      \n",
    "\tf'\\n\\tand a sample frequency of {data.info[\"sfreq\"]} Hz'      \n",
    "\tf'\\n\\twith a recording duration of {time_duration} seconds.'      \n",
    "\tf'\\n\\t{n_chan} channels were labeled as \\n{data.ch_names}.')\n",
    "LFP_Stn_L_13 = data.get_data()[0]\n",
    "LFP_Stn_R_13 =  data.get_data()[1]\n",
    "x_time=np.arange(0,time_duration_ms,4)\n",
    "x_min=20800\n",
    "x_max=21800\n",
    "y_min=-200\n",
    "y_max=200\n",
    "plt.axis([x_min, x_max,y_min,y_max])\n",
    "plt.title('sub-033 18 MFU LFP STN L MedON 0.5mA stim L')\n",
    "plt.xlabel('Time (ms)')\n",
    "plt.ylabel('LFP (µV)')\n",
    "plt.plot(x_time,LFP_Stn_L_13)"
   ]
  },
  {
   "cell_type": "code",
   "execution_count": null,
   "metadata": {},
   "outputs": [],
   "source": [
    "# Zoom on first stimulation train and compare with stimulation\n",
    "\n",
    "datapath = 'C:\\\\Users\\\\Juliette\\\\OneDrive - Charité - Universitätsmedizin Berlin\\\\Documents\\\\MATLAB\\\\RawFiles\\\\sub-033\\\\18MFU\\\\MedON\\\\sub-20210902PStn\\\\ses-2023020101261271\\\\ieeg'\n",
    "filename = 'sub-20210902PStn_ses-2023020101261271_run-BrainSense20230201014600.mat'\n",
    "data = mne.io.read_raw_fieldtrip(        \n",
    "\tos.path.join(datapath, filename),        \n",
    "\tinfo={}, # add info here        \n",
    "\tdata_name='data',  # name of heading dict/ variable of original MATLAB object    \n",
    ")\n",
    "data.ch_names\n",
    "n_chan = len(data.ch_names)\n",
    "data.n_times #number of samples\n",
    "data.times #timepoints set to zero\n",
    "data._data # channel trials\n",
    "data.info['sfreq'] # sampling frequency\n",
    "time_duration = (data.n_times/data.info['sfreq']).astype(float)\n",
    "time_duration_ms=time_duration*1000\n",
    "print(     \n",
    "\tf'The data object has:\\n\\t{data.n_times} time samples,'      \n",
    "\tf'\\n\\tand a sample frequency of {data.info[\"sfreq\"]} Hz'      \n",
    "\tf'\\n\\twith a recording duration of {time_duration} seconds.'      \n",
    "\tf'\\n\\t{n_chan} channels were labeled as \\n{data.ch_names}.')\n",
    "x_time=np.arange(0,time_duration_ms,4)\n",
    "LFP_Stn_L_13 = data.get_data()[0]\n",
    "STIM_L_125Hz_60us =  data.get_data()[4]\n",
    "x_min=20000\n",
    "x_max=26000\n",
    "y_min=-200\n",
    "y_max=200\n",
    "fig, (ax1, ax2) = plt.subplots(2,1,height_ratios=[1,5])\n",
    "fig.suptitle('sub-033 18 MFU LFP STN L MedON 0.5mA stim L')\n",
    "ax1.set_xlim(x_min,x_max)\n",
    "ax2.set_xlim(x_min,x_max)\n",
    "ax2.set_ylim(y_min,y_max)\n",
    "ax2.set_xlabel('Time (ms)')\n",
    "ax2.set_ylabel('LFP (µV)',size=8)\n",
    "ax1.set_ylabel('Stimulation amplitude (mA)',size=8)\n",
    "ax1.plot(x_time,STIM_L_125Hz_60us,color='orange')\n",
    "ax2.plot(x_time,LFP_Stn_L_13)\n",
    "fig.set_size_inches(20, 15)\t"
   ]
  },
  {
   "cell_type": "code",
   "execution_count": null,
   "metadata": {},
   "outputs": [],
   "source": [
    "# Zoom more to determine the temporal inaccuracy of the stimulation amplitude\n",
    "\n",
    "datapath = 'C:\\\\Users\\\\Juliette\\\\OneDrive - Charité - Universitätsmedizin Berlin\\\\Documents\\\\MATLAB\\\\RawFiles\\\\sub-033\\\\18MFU\\\\MedON\\\\sub-20210902PStn\\\\ses-2023020101261271\\\\ieeg'\n",
    "filename = 'sub-20210902PStn_ses-2023020101261271_run-BrainSense20230201014600.mat'\n",
    "data = mne.io.read_raw_fieldtrip(        \n",
    "\tos.path.join(datapath, filename),        \n",
    "\tinfo={}, # add info here        \n",
    "\tdata_name='data',  # name of heading dict/ variable of original MATLAB object    \n",
    ")\n",
    "data.ch_names\n",
    "n_chan = len(data.ch_names)\n",
    "data.n_times #number of samples\n",
    "data.times #timepoints set to zero\n",
    "data._data # channel trials\n",
    "data.info['sfreq'] # sampling frequency\n",
    "time_duration = (data.n_times/data.info['sfreq']).astype(float)\n",
    "time_duration_ms=time_duration*1000\n",
    "print(     \n",
    "\tf'The data object has:\\n\\t{data.n_times} time samples,'      \n",
    "\tf'\\n\\tand a sample frequency of {data.info[\"sfreq\"]} Hz'      \n",
    "\tf'\\n\\twith a recording duration of {time_duration} seconds.'      \n",
    "\tf'\\n\\t{n_chan} channels were labeled as \\n{data.ch_names}.')\n",
    "x_time=np.arange(0,time_duration_ms,4)\n",
    "LFP_Stn_L_13 = data.get_data()[0]\n",
    "STIM_L_125Hz_60us =  data.get_data()[4]\n",
    "x_min=20200\n",
    "x_max=21200\n",
    "y_min=-200\n",
    "y_max=50\n",
    "fig, (ax1, ax2) = plt.subplots(2,1,height_ratios=[1,5])\n",
    "fig.suptitle('sub-033 18 MFU LFP STN L MedON 0.5mA stim L')\n",
    "ax1.set_xlim(x_min,x_max)\n",
    "ax2.set_xlim(x_min,x_max)\n",
    "ax2.set_ylim(y_min,y_max)\n",
    "ax1.set_xticks(np.arange(x_min,x_max,25))\n",
    "ax2.set_xticks(np.arange(x_min,x_max,25))\n",
    "ax2.tick_params(axis='x',labelsize=6,labelrotation=45)\n",
    "ax1.xaxis.set_ticklabels([])\n",
    "ax2.set_xlabel('Time (ms)')\n",
    "ax2.set_ylabel('LFP (µV)',size=8)\n",
    "ax1.set_ylabel('Stimulation amplitude (mA)',size=8)\n",
    "ax1.plot(x_time,STIM_L_125Hz_60us,color='orange')\n",
    "ax2.plot(x_time,LFP_Stn_L_13)\n",
    "ax1.grid()\n",
    "ax2.grid()\n",
    "\n",
    "#875ms between stim stored and actual artefact."
   ]
  },
  {
   "attachments": {},
   "cell_type": "markdown",
   "metadata": {},
   "source": [
    "Determine exact value of delays:"
   ]
  },
  {
   "cell_type": "code",
   "execution_count": null,
   "metadata": {},
   "outputs": [],
   "source": [
    "#add code based on thresholds (stim>0 at what time, compare with sudden drop/increase in LFP amplitude)"
   ]
  }
 ],
 "metadata": {
  "kernelspec": {
   "display_name": "mne",
   "language": "python",
   "name": "python3"
  },
  "language_info": {
   "codemirror_mode": {
    "name": "ipython",
    "version": 3
   },
   "file_extension": ".py",
   "mimetype": "text/x-python",
   "name": "python",
   "nbconvert_exporter": "python",
   "pygments_lexer": "ipython3",
   "version": "3.10.9"
  },
  "orig_nbformat": 4,
  "vscode": {
   "interpreter": {
    "hash": "d88ae3f494ed6750ac12c087146162cb95510d20525109b4b9e2bae86cf73368"
   }
  }
 },
 "nbformat": 4,
 "nbformat_minor": 2
}
